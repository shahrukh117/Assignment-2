{
 "cells": [
  {
   "cell_type": "markdown",
   "id": "8c5b24f4-1214-40d4-9252-427815f24f71",
   "metadata": {},
   "source": [
    "## Q1. How do you comment code in Python? What are the different types of comments?"
   ]
  },
  {
   "cell_type": "markdown",
   "id": "437af17a-065f-46f9-8783-d00d3e3a2956",
   "metadata": {},
   "source": [
    "### Python Comments"
   ]
  },
  {
   "cell_type": "markdown",
   "id": "7adddb22-ff80-4db4-8969-4c4554ffd5b4",
   "metadata": {},
   "source": [
    " Comments can be used to explain Python code.\n",
    "\n",
    "Comments can be used to make the code more readable.\n",
    "\n",
    "Comments can be used to prevent execution when testing code.\n",
    "\n"
   ]
  },
  {
   "cell_type": "markdown",
   "id": "2784a70d-9612-4716-98db-59d760dd65d4",
   "metadata": {},
   "source": [
    "### There are three types of comments in Python :\n",
    "1. Single-line comment\n",
    "2. Multi-line comment\n",
    "3. docstring comment"
   ]
  },
  {
   "cell_type": "markdown",
   "id": "c2b0ede5-fa4b-4eff-8b31-376da30cd51f",
   "metadata": {
    "tags": []
   },
   "source": [
    "### Creating a Comment"
   ]
  },
  {
   "cell_type": "markdown",
   "id": "d26520ef-dd26-44d8-b40a-18f1c9e44cf0",
   "metadata": {},
   "source": [
    "### Single-line comments \n",
    "Comments starts with a hash symbol (#) and  when the code is being executed, the Python interpreter will ignore the comment and run the print() function."
   ]
  },
  {
   "cell_type": "code",
   "execution_count": 4,
   "id": "73b1c38d-151b-4162-9b66-43ff7563ad08",
   "metadata": {},
   "outputs": [
    {
     "name": "stdout",
     "output_type": "stream",
     "text": [
      "Hello world\n"
     ]
    }
   ],
   "source": [
    "# This is a comment\n",
    "print(\"Hello world\")"
   ]
  },
  {
   "cell_type": "markdown",
   "id": "488a735c-f77c-4272-9c2f-6b46af76c610",
   "metadata": {},
   "source": [
    "### Multiline Comments\n",
    "Python does not really have a syntax for multiline comments.\n",
    "\n",
    "To add a multiline comment you could insert a # for each line:"
   ]
  },
  {
   "cell_type": "markdown",
   "id": "8f92eb9c-5ec9-4cec-8c87-7254150c01ba",
   "metadata": {},
   "source": [
    "##### Example"
   ]
  },
  {
   "cell_type": "code",
   "execution_count": 6,
   "id": "7d844e99-6278-4473-b3b5-239c7a107e4c",
   "metadata": {},
   "outputs": [
    {
     "name": "stdout",
     "output_type": "stream",
     "text": [
      "Hello, World!\n"
     ]
    }
   ],
   "source": [
    "#This is a comment\n",
    "#written in\n",
    "#more than just one line\n",
    "print(\"Hello, World!\")"
   ]
  },
  {
   "cell_type": "markdown",
   "id": "f09a50ee-36fd-4056-a714-c4b9630583ee",
   "metadata": {},
   "source": [
    "Or, not quite as intended, you can use a multiline string.\n",
    "\n",
    "Since Python will ignore string literals that are not assigned to a variable, you can add a multiline string (triple quotes) in your code, and place your comment inside it"
   ]
  },
  {
   "cell_type": "markdown",
   "id": "69dbf8be-2780-4770-a06e-520ad37ed08f",
   "metadata": {},
   "source": [
    "##### Example"
   ]
  },
  {
   "cell_type": "code",
   "execution_count": 7,
   "id": "8d0c3515-e754-407a-a476-ea4e99721c37",
   "metadata": {},
   "outputs": [
    {
     "name": "stdout",
     "output_type": "stream",
     "text": [
      "Hello, World!\n"
     ]
    }
   ],
   "source": [
    "\"\"\"\n",
    "This is a comment\n",
    "written in\n",
    "more than just one line\n",
    "\"\"\"\n",
    "print(\"Hello, World!\")"
   ]
  },
  {
   "cell_type": "markdown",
   "id": "48df878e-9baf-48f5-bd6d-487b7914497c",
   "metadata": {},
   "source": [
    "As long as the string is not assigned to a variable, Python will read the code, but then ignore it, and you have made a multiline comment."
   ]
  },
  {
   "cell_type": "markdown",
   "id": "e4570f8a-1b0b-495b-a19b-a931db4d549f",
   "metadata": {},
   "source": [
    "## Q2. What are variables in Python? How do you declare and assign values to variables?"
   ]
  },
  {
   "cell_type": "markdown",
   "id": "afd3c40a-e9d9-4cdd-a5f2-05f6875873fe",
   "metadata": {},
   "source": [
    "### Python Variables"
   ]
  },
  {
   "cell_type": "markdown",
   "id": "cd77cede-1abe-4a02-9765-832624c689dc",
   "metadata": {},
   "source": [
    "Python Variable is containers that store values. Python is not “statically typed”. We do not need to declare variables before using them or declare their type.\n",
    "\n",
    "A variable is created the moment we first assign a value to it. A Python variable is a name given to a memory location. It is the basic unit of storage in a program."
   ]
  },
  {
   "cell_type": "markdown",
   "id": "2937e93a-2583-4042-8108-375cff54efb7",
   "metadata": {},
   "source": [
    "### Rules for Python variables\n",
    "A Python variable name must start with a letter or the underscore character.\n",
    "\n",
    "A Python variable name cannot start with a number.\n",
    "\n",
    "A Python variable name can only contain alpha-numeric characters and underscores (A-z, 0-9, and _ ).\n",
    "\n",
    "Variable in Python names are case-sensitive (name, Name, and NAME are three different variables).\n",
    "\n",
    "The reserved words(keywords) in Python cannot be used to name the variable in Python."
   ]
  },
  {
   "cell_type": "markdown",
   "id": "d240e50e-7d73-43c9-ac0c-86fe4145074f",
   "metadata": {},
   "source": [
    "#### Example"
   ]
  },
  {
   "cell_type": "code",
   "execution_count": 9,
   "id": "5a93412d-aa96-4b8c-adf9-87db21d974b8",
   "metadata": {},
   "outputs": [
    {
     "name": "stdout",
     "output_type": "stream",
     "text": [
      "5\n",
      "John\n"
     ]
    }
   ],
   "source": [
    "x = 5\n",
    "y = \"John\"\n",
    "print(x)\n",
    "print(y)"
   ]
  },
  {
   "cell_type": "code",
   "execution_count": 10,
   "id": "1387acff-f542-4f20-aaed-2bd3268f5f0d",
   "metadata": {},
   "outputs": [
    {
     "name": "stdout",
     "output_type": "stream",
     "text": [
      "Sally\n"
     ]
    }
   ],
   "source": [
    "x = 4       # x is of type int\n",
    "x = \"Sally\" # x is now of type str\n",
    "print(x)"
   ]
  },
  {
   "cell_type": "code",
   "execution_count": 17,
   "id": "7430f073-7c10-4d0c-8132-453c29322536",
   "metadata": {},
   "outputs": [],
   "source": [
    "a = 4\n",
    "A = \"Sally\"\n",
    "#A will not overwrite a"
   ]
  },
  {
   "cell_type": "code",
   "execution_count": 18,
   "id": "ca4884c4-e467-4960-8943-1004ce67f269",
   "metadata": {},
   "outputs": [
    {
     "data": {
      "text/plain": [
       "4"
      ]
     },
     "execution_count": 18,
     "metadata": {},
     "output_type": "execute_result"
    }
   ],
   "source": [
    "a"
   ]
  },
  {
   "cell_type": "code",
   "execution_count": 19,
   "id": "4ec9cfb9-112f-4192-8e77-ff6beec81952",
   "metadata": {},
   "outputs": [
    {
     "data": {
      "text/plain": [
       "'Sally'"
      ]
     },
     "execution_count": 19,
     "metadata": {},
     "output_type": "execute_result"
    }
   ],
   "source": [
    "A"
   ]
  },
  {
   "cell_type": "markdown",
   "id": "30bf9bf9-bb8f-418c-94e3-8ee38f352732",
   "metadata": {},
   "source": [
    "### Variables Assignment in Python\n",
    "Here, we have assigned a number, a floating point number, and a string to a variable such as age, salary, and name."
   ]
  },
  {
   "cell_type": "code",
   "execution_count": 20,
   "id": "b7bb54c0-ac89-412c-9418-98f89615cf57",
   "metadata": {},
   "outputs": [
    {
     "name": "stdout",
     "output_type": "stream",
     "text": [
      "45\n",
      "1456.8\n",
      "John\n"
     ]
    }
   ],
   "source": [
    "\n",
    "# An integer assignment\n",
    "age = 45\n",
    " \n",
    "# A floating point\n",
    "salary = 1456.8\n",
    " \n",
    "# A string\n",
    "name = \"John\"\n",
    " \n",
    "print(age)\n",
    "print(salary)\n",
    "print(name)"
   ]
  },
  {
   "cell_type": "markdown",
   "id": "478f1637-c952-4d33-9ed5-292841ed3f99",
   "metadata": {},
   "source": [
    "## Q3. How do you convert one data type to another in Python?"
   ]
  },
  {
   "cell_type": "markdown",
   "id": "529cb61a-354c-4c79-90d5-f5617dd35572",
   "metadata": {},
   "source": [
    "### Type Conversion in Python\n",
    " \n",
    "The process of converting the value of one data type into another type is called Type Conversion.\n",
    "Python has two types of type conversion.\n",
    "\n",
    "Implicit Type Conversion\n",
    "\n",
    "Explicit Type Conversion"
   ]
  },
  {
   "cell_type": "markdown",
   "id": "31fce7ae-ecb0-4fde-8d3b-3521a493e333",
   "metadata": {},
   "source": [
    "### Implicit Type Conversion\n",
    " \n",
    "Python automatically converts one data type into another data type. This process doesn't need any user involvement. "
   ]
  },
  {
   "cell_type": "markdown",
   "id": "5abeee9d-4227-4ef7-999a-4ded74124d95",
   "metadata": {},
   "source": [
    "#### Examaple"
   ]
  },
  {
   "cell_type": "code",
   "execution_count": 1,
   "id": "2cc7ae07-37de-4f99-a71e-339194943dc9",
   "metadata": {},
   "outputs": [
    {
     "name": "stdout",
     "output_type": "stream",
     "text": [
      "type of num_int is :  <class 'int'>\n",
      "type of num_flo is :  <class 'float'>\n",
      "value of num_new is :  124.23\n",
      "type of num_new is :  <class 'float'>\n"
     ]
    }
   ],
   "source": [
    "num_int = 123   \n",
    "num_flo = 1.23  \n",
    "num_new = num_int + num_flo  \n",
    "print('type of num_int is : ', type(num_int))  \n",
    "print('type of num_flo is : ', type(num_flo))  \n",
    "print('value of num_new is : ', num_new)  \n",
    "print('type of num_new is : ', type(num_new))"
   ]
  },
  {
   "cell_type": "markdown",
   "id": "78163538-a290-43dd-b2ff-4661919b6dfc",
   "metadata": {},
   "source": [
    "### Explicit Type Conversion\n",
    " \n",
    "Python defines type conversion functions like int(), float(), str() to directly convert one data type into another. This type of conversion is also called typecasting because the user casts (change) the data type of the objects."
   ]
  },
  {
   "cell_type": "markdown",
   "id": "20a350b7-d489-4521-8211-7dfe7abf4a11",
   "metadata": {},
   "source": [
    "##### int(a, base)\n",
    " \n",
    "This function converts any data type into integer. ‘Base’ specifies the base in which a string is converted if the data type is string. By default, ‘Base’ is set to 10.  "
   ]
  },
  {
   "cell_type": "code",
   "execution_count": 7,
   "id": "45a73fb3-06b5-4092-bcb1-8c2487cad875",
   "metadata": {},
   "outputs": [
    {
     "name": "stdout",
     "output_type": "stream",
     "text": [
      "string converted to int base 2 :  18\n",
      "string converted to int base 10:  10010\n"
     ]
    }
   ],
   "source": [
    "s = \"10010\"    \n",
    "# string converting to int base 2   \n",
    "c = int(s,2)   \n",
    "print('string converted to int base 2 : ', c)  \n",
    "# string converting to int base 10   \n",
    "c = int(s)   \n",
    "print('string converted to int base 10: ', c)    "
   ]
  },
  {
   "cell_type": "markdown",
   "id": "bfa1951d-3aca-41c1-8c40-afd84a8973d9",
   "metadata": {},
   "source": [
    "#### float()\n",
    " \n",
    "This function is used to convert any data type to a floating point number."
   ]
  },
  {
   "cell_type": "code",
   "execution_count": 12,
   "id": "5c1fac2d-31eb-45f1-bc9f-b1dbdc84867f",
   "metadata": {},
   "outputs": [
    {
     "name": "stdout",
     "output_type": "stream",
     "text": [
      "string converted to float:  10010.0\n"
     ]
    }
   ],
   "source": [
    "s = \"10010\"    \n",
    "    # string converting to float   \n",
    "c = float(s)   \n",
    "print('string converted to float: ', c) "
   ]
  },
  {
   "cell_type": "markdown",
   "id": "bb9ec86e-387e-463e-bafe-5ce4fe6c4e7c",
   "metadata": {},
   "source": [
    "#### tuple()\n",
    " \n",
    "This function is used to convert a data type into a tuple."
   ]
  },
  {
   "cell_type": "code",
   "execution_count": 13,
   "id": "f4f78af9-4037-46ec-a5d6-39c537953593",
   "metadata": {},
   "outputs": [
    {
     "name": "stdout",
     "output_type": "stream",
     "text": [
      "string converted into tuple:   ('p', 'y', 't', 'h', 'o', 'n')\n"
     ]
    }
   ],
   "source": [
    "s = 'python'    \n",
    "c = tuple(s)  \n",
    "print(\"string converted into tuple:  \", c)  "
   ]
  },
  {
   "cell_type": "markdown",
   "id": "597b0852-548d-4bcb-a683-65700d138b43",
   "metadata": {},
   "source": [
    "#### set()\n",
    " \n",
    "This function returns the type after converting into set."
   ]
  },
  {
   "cell_type": "code",
   "execution_count": 15,
   "id": "008ba978-0c71-4f73-9f48-2f050aea48de",
   "metadata": {},
   "outputs": [
    {
     "name": "stdout",
     "output_type": "stream",
     "text": [
      "string converted into set:   {'g', 't', 'o', 's', 'y', ' ', 'm', 'p', 'h', 'a', 'e', 'n', 'r'}\n"
     ]
    }
   ],
   "source": [
    "s = 'python programmers'    \n",
    "c = set(s)   \n",
    "print(\"string converted into set:  \", c) "
   ]
  },
  {
   "cell_type": "markdown",
   "id": "6fcaa718-fb31-4c8d-8e75-3e789f4d0bf7",
   "metadata": {},
   "source": [
    "#### list()\n",
    " \n",
    "This function is used to convert any data type into a list type."
   ]
  },
  {
   "cell_type": "code",
   "execution_count": 16,
   "id": "29b5781d-0a52-428d-9000-0389f825bd88",
   "metadata": {},
   "outputs": [
    {
     "name": "stdout",
     "output_type": "stream",
     "text": [
      "string converted into list:   ['p', 'y', 't', 'h', 'o', 'n']\n"
     ]
    }
   ],
   "source": [
    "s = 'python'    \n",
    "c = list(s)   \n",
    "print(\"string converted into list:  \", c) "
   ]
  },
  {
   "cell_type": "markdown",
   "id": "b2e321a2-9ab2-4a27-91c4-94cf1d9dfd4e",
   "metadata": {},
   "source": [
    "#### dict()\n",
    " \n",
    "This function is used to convert a tuple of order (key, value) into a dictionary"
   ]
  },
  {
   "cell_type": "code",
   "execution_count": 19,
   "id": "8446f59c-e7a0-497f-8b6d-197cfd672bfc",
   "metadata": {},
   "outputs": [
    {
     "name": "stdout",
     "output_type": "stream",
     "text": [
      "tuple converted into dictionary:   {'a': 1, 'f': 2, 'g': 3}\n"
     ]
    }
   ],
   "source": [
    "tup = (('a', 1), ('f', 2), ('g', 3))  \n",
    "c = dict(tup)   \n",
    "print(\"tuple converted into dictionary:  \", c)"
   ]
  },
  {
   "cell_type": "markdown",
   "id": "72d203fa-2830-4f15-8d6b-c6330a1aaff0",
   "metadata": {},
   "source": [
    "#### str()\n",
    " \n",
    "This function is used to convert a value (integer or float) into a string."
   ]
  },
  {
   "cell_type": "code",
   "execution_count": 20,
   "id": "0bb154f4-ae3f-4d0e-bcc4-ea1564458d9c",
   "metadata": {},
   "outputs": [
    {
     "name": "stdout",
     "output_type": "stream",
     "text": [
      "float value converted into string:   10.0\n"
     ]
    }
   ],
   "source": [
    "f = 10.0  \n",
    "s = str(f)   \n",
    "print(\"float value converted into string:  \", s)"
   ]
  },
  {
   "cell_type": "markdown",
   "id": "2643a98e-1633-4a11-a308-52ae2aee4a50",
   "metadata": {},
   "source": [
    "### Q4. How do you write and execute a Python script from the command line?"
   ]
  },
  {
   "cell_type": "markdown",
   "id": "5562df2d-07d9-4dbb-b969-b59e10989f56",
   "metadata": {},
   "source": [
    "First of all, I set up python in my destop system, I used editor Notepad++ to write python script.\n",
    "I typed \"Hello shahrukh, how are you\".\n"
   ]
  },
  {
   "cell_type": "markdown",
   "id": "d872dda2-0035-41f6-b89a-5b2b691d74b7",
   "metadata": {},
   "source": [
    "Then save the file on my desktop with the name shahrukh.py or anything you like. I gave the .py extension only."
   ]
  },
  {
   "cell_type": "markdown",
   "id": "39e590f6-1f21-4571-9e13-25adc002f6d0",
   "metadata": {},
   "source": [
    "I opened command prompt then I typed cd desktop and press enter key\n",
    "then I typed python shahrukh.py and press enter key.\n",
    "my python code successfully run."
   ]
  },
  {
   "cell_type": "markdown",
   "id": "64f9fe9c-c38f-44e5-8d16-ed27c7442a79",
   "metadata": {},
   "source": [
    "### Q5. Given a list my_list = [1, 2, 3, 4, 5], write the code to slice the list and obtain the sub-list [2, 3]."
   ]
  },
  {
   "cell_type": "code",
   "execution_count": 1,
   "id": "a963c576-b88e-4470-a4df-f347ee906178",
   "metadata": {},
   "outputs": [],
   "source": [
    "my_list = [1,2,3,4,5,]"
   ]
  },
  {
   "cell_type": "code",
   "execution_count": 4,
   "id": "bb3fcae3-149a-43f8-82a2-04d94e0e66f0",
   "metadata": {},
   "outputs": [
    {
     "data": {
      "text/plain": [
       "[2, 3]"
      ]
     },
     "execution_count": 4,
     "metadata": {},
     "output_type": "execute_result"
    }
   ],
   "source": [
    "my_list[1:3]"
   ]
  },
  {
   "cell_type": "markdown",
   "id": "fd47324c-f094-428f-a4a2-f78ac75d1c37",
   "metadata": {},
   "source": [
    "### Q6. What is a complex number in mathematics, and how is it represented in Python?"
   ]
  },
  {
   "cell_type": "markdown",
   "id": "edb6fa7a-cd8c-4906-8b7e-5ea251724b10",
   "metadata": {},
   "source": [
    "A complex number is a number that can be written in the form of (a+b j) where a and b are real numbers. Here j is an imaginary number and is defined to be the square root of -1. Complex numbers occur in pairs and are mostly used in calculations involving square roots of negative numbers."
   ]
  },
  {
   "cell_type": "code",
   "execution_count": 15,
   "id": "9d1d2521-a6cb-4be2-a3d7-43c3bf1a80b2",
   "metadata": {},
   "outputs": [
    {
     "name": "stdout",
     "output_type": "stream",
     "text": [
      "Output: (5+7j)\n"
     ]
    }
   ],
   "source": [
    "z = complex(5, 7)\n",
    "print(\"Output:\", z)"
   ]
  },
  {
   "cell_type": "code",
   "execution_count": 16,
   "id": "9c68103f-6e1b-4c41-8b56-dca730e161d5",
   "metadata": {},
   "outputs": [
    {
     "name": "stdout",
     "output_type": "stream",
     "text": [
      "Output: (3+0j)\n"
     ]
    }
   ],
   "source": [
    "z = complex(3)\n",
    "print(\"Output:\", z)"
   ]
  },
  {
   "cell_type": "code",
   "execution_count": 17,
   "id": "457cc370-113d-4fbc-baa1-2238e098f620",
   "metadata": {},
   "outputs": [
    {
     "name": "stdout",
     "output_type": "stream",
     "text": [
      "Output: 0j\n"
     ]
    }
   ],
   "source": [
    "z = complex()\n",
    "print(\"Output:\", z)"
   ]
  },
  {
   "cell_type": "code",
   "execution_count": 18,
   "id": "3ceaacb2-ca8a-4ff5-a053-efd6e9460551",
   "metadata": {},
   "outputs": [
    {
     "name": "stdout",
     "output_type": "stream",
     "text": [
      "Output: (1+1j)\n"
     ]
    }
   ],
   "source": [
    "z = complex('1+1j')\n",
    "print(\"Output:\", z)"
   ]
  },
  {
   "cell_type": "code",
   "execution_count": 19,
   "id": "8a2a05e8-308b-4c58-9848-00a91c9cb304",
   "metadata": {},
   "outputs": [
    {
     "name": "stdout",
     "output_type": "stream",
     "text": [
      "Output: (1-4j)\n"
     ]
    }
   ],
   "source": [
    "z = complex(1, -4)\n",
    "print(\"Output:\", z)"
   ]
  },
  {
   "cell_type": "markdown",
   "id": "f6475619-2318-47bc-b0c6-d99dcef81223",
   "metadata": {},
   "source": [
    "###### You can also use built-in functions to access the general information. Let’s see an example:"
   ]
  },
  {
   "cell_type": "code",
   "execution_count": 24,
   "id": "afad31f7-1745-49b8-a32a-73646a0c7f28",
   "metadata": {},
   "outputs": [
    {
     "name": "stdout",
     "output_type": "stream",
     "text": [
      "Real part: 3.0\n",
      "Imaginary part: 4.0\n",
      "Conjugate value: (3-4j)\n"
     ]
    }
   ],
   "source": [
    "z  = 3 + 4j\n",
    "\n",
    "print(\"Real part:\", z.real)\n",
    "\n",
    "print(\"Imaginary part:\", z.imag)\n",
    "\n",
    "print(\"Conjugate value:\", z.conjugate())"
   ]
  },
  {
   "cell_type": "markdown",
   "id": "70da8d6d-96ac-425e-b3d0-279ac92a1343",
   "metadata": {},
   "source": [
    "### Q7. What is the correct way to declare a variable named age and assign the value 25 to it?"
   ]
  },
  {
   "cell_type": "code",
   "execution_count": 11,
   "id": "bcf330c0-a893-417f-a37f-f41483ecbbfc",
   "metadata": {},
   "outputs": [
    {
     "name": "stdout",
     "output_type": "stream",
     "text": [
      "Shahrukh is 25 years old\n"
     ]
    }
   ],
   "source": [
    "name = \"Shahrukh\"\n",
    "\n",
    "age = \"25\"\n",
    "print(f'{name} is {age} years old')"
   ]
  },
  {
   "cell_type": "code",
   "execution_count": 12,
   "id": "5d53fff1-8a58-47fa-b7ca-7a61fdede425",
   "metadata": {},
   "outputs": [
    {
     "name": "stdout",
     "output_type": "stream",
     "text": [
      "Shahrukh is 25 year old\n"
     ]
    }
   ],
   "source": [
    "name = \"Shahrukh\"\n",
    "\n",
    "age = \"25\"\n",
    "print(name +' is '+ age +' year old')"
   ]
  },
  {
   "cell_type": "code",
   "execution_count": 13,
   "id": "100deae4-cece-4b5c-92ae-2f829232ee77",
   "metadata": {},
   "outputs": [
    {
     "name": "stdout",
     "output_type": "stream",
     "text": [
      "name = Shahrukh, age = 25\n"
     ]
    }
   ],
   "source": [
    "name = \"Shahrukh\"\n",
    "\n",
    "age = \"25\"\n",
    "print(\"name = Shahrukh, age = 25\")"
   ]
  },
  {
   "cell_type": "markdown",
   "id": "316c4d10-d1d7-490f-9b21-51c5a9b8d349",
   "metadata": {},
   "source": [
    "### Q8. Declare a variable named price and assign the value 9.99 to it. What data type does this variable belong to?"
   ]
  },
  {
   "cell_type": "code",
   "execution_count": 16,
   "id": "34ce6da0-e6f7-4729-870f-faa9f94ba1ce",
   "metadata": {},
   "outputs": [
    {
     "name": "stdout",
     "output_type": "stream",
     "text": [
      "Pen is 9.99 rupees\n"
     ]
    }
   ],
   "source": [
    "name = \"Pen\" \n",
    "\n",
    "price = 9.99\n",
    "\n",
    "print(f'{name} is {price} rupees')\n"
   ]
  },
  {
   "cell_type": "code",
   "execution_count": 22,
   "id": "76613ef7-c1dc-40e9-9073-a9b321aa0680",
   "metadata": {},
   "outputs": [
    {
     "name": "stdout",
     "output_type": "stream",
     "text": [
      "<class 'str'>\n",
      "<class 'float'>\n"
     ]
    }
   ],
   "source": [
    "print(type(name))\n",
    "print(type(price))"
   ]
  },
  {
   "cell_type": "markdown",
   "id": "1ae9f59f-e7a8-41ee-a59d-4b4589d5f88d",
   "metadata": {},
   "source": [
    "### Q9. Create a variable named name and assign your full name to it as a string. How would you print thevalue of this variable?"
   ]
  },
  {
   "cell_type": "code",
   "execution_count": 2,
   "id": "d7056e0f-6d9d-4fcd-850e-9eec59a9b4bf",
   "metadata": {},
   "outputs": [
    {
     "name": "stdout",
     "output_type": "stream",
     "text": [
      "mohd shahrukh\n"
     ]
    }
   ],
   "source": [
    "name = \"mohd shahrukh\"\n",
    "print(name)"
   ]
  },
  {
   "cell_type": "markdown",
   "id": "e8a55c08-f24e-4844-8702-8b420e1c8b21",
   "metadata": {},
   "source": [
    "### Q10. Given the string \"Hello, World!\", extract the substring \"World\"."
   ]
  },
  {
   "cell_type": "code",
   "execution_count": 3,
   "id": "ff7b40a5-6603-4ea1-949c-e5ddc7d5f1af",
   "metadata": {},
   "outputs": [
    {
     "data": {
      "text/plain": [
       "'World'"
      ]
     },
     "execution_count": 3,
     "metadata": {},
     "output_type": "execute_result"
    }
   ],
   "source": [
    "s = \"Hello, World!\" \n",
    "s[7:12]"
   ]
  },
  {
   "cell_type": "markdown",
   "id": "882252f5-9981-4934-af8a-0445693147d9",
   "metadata": {},
   "source": [
    "### Q11. Create a variable named \"is_student\" and assign it a boolean value indicating whether you are currently a student or not."
   ]
  },
  {
   "cell_type": "code",
   "execution_count": 9,
   "id": "9a04e9ad-71be-4a52-8ee1-0cea372c0715",
   "metadata": {},
   "outputs": [
    {
     "name": "stdout",
     "output_type": "stream",
     "text": [
      "shahrukh is a student\n"
     ]
    }
   ],
   "source": [
    "is_student = \"shahrukh\"\n",
    "\n",
    "if is_student == \"shahrukh\":\n",
    "    \n",
    "    print(\"shahrukh is a student\")\n",
    "else:\n",
    "    print(\"shahrukh is not a student\")"
   ]
  },
  {
   "cell_type": "code",
   "execution_count": 10,
   "id": "14a7138e-1d73-4077-8403-61bffce21013",
   "metadata": {},
   "outputs": [
    {
     "name": "stdout",
     "output_type": "stream",
     "text": [
      "shahrukh is not a student\n"
     ]
    }
   ],
   "source": [
    "is_student = \"salman\"\n",
    "\n",
    "if is_student == \"shahrukh\":\n",
    "    \n",
    "    print(\"shahrukh is a student\")\n",
    "else:\n",
    "    print(\"shahrukh is not a student\")"
   ]
  },
  {
   "cell_type": "code",
   "execution_count": 11,
   "id": "9564fbc0-2a58-4b00-81e1-f3718795332f",
   "metadata": {},
   "outputs": [
    {
     "name": "stdout",
     "output_type": "stream",
     "text": [
      "I don't know\n"
     ]
    }
   ],
   "source": [
    "is_student = \"other\"\n",
    "\n",
    "if is_student == \"shahrukh\":\n",
    "    \n",
    "    print(\"shahrukh is a student\")\n",
    "    \n",
    "elif is_student == \"salman\":\n",
    "    \n",
    "    print(\"salman is a student\")\n",
    "else:\n",
    "    print(\"I don't know\")"
   ]
  },
  {
   "cell_type": "code",
   "execution_count": null,
   "id": "ec56f371-41ea-4f6b-9827-1dffc255f361",
   "metadata": {},
   "outputs": [],
   "source": []
  }
 ],
 "metadata": {
  "kernelspec": {
   "display_name": "Python 3 (ipykernel)",
   "language": "python",
   "name": "python3"
  },
  "language_info": {
   "codemirror_mode": {
    "name": "ipython",
    "version": 3
   },
   "file_extension": ".py",
   "mimetype": "text/x-python",
   "name": "python",
   "nbconvert_exporter": "python",
   "pygments_lexer": "ipython3",
   "version": "3.10.8"
  }
 },
 "nbformat": 4,
 "nbformat_minor": 5
}
